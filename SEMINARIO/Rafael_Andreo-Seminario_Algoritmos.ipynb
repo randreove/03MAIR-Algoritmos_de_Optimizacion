{
  "nbformat": 4,
  "nbformat_minor": 0,
  "metadata": {
    "colab": {
      "provenance": [],
      "include_colab_link": true
    },
    "kernelspec": {
      "name": "python3",
      "display_name": "Python 3"
    }
  },
  "cells": [
    {
      "cell_type": "markdown",
      "metadata": {
        "id": "view-in-github",
        "colab_type": "text"
      },
      "source": [
        "<a href=\"https://colab.research.google.com/github/randreove/03MAIR-Algoritmos_de_Optimizacion/blob/main/Copia_de_Seminario_Algoritmos_OK.ipynb\" target=\"_parent\"><img src=\"https://colab.research.google.com/assets/colab-badge.svg\" alt=\"Open In Colab\"/></a>"
      ]
    },
    {
      "cell_type": "markdown",
      "metadata": {
        "id": "hVbXYX-RfPWh"
      },
      "source": [
        "# Algoritmos de optimización - Seminario<br>\n",
        "Nombre y Apellidos: Rafael Andreo de la Vega  <br>\n",
        "Url: https://github.com/randreove/03MAIR-Algoritmos_de_Optimizacion/tree/main/SEMINARIO<br>\n",
        "Problema:\n",
        "> 1. Sesiones de doblaje <br>\n",
        "\n",
        "\n",
        "Se precisa coordinar el doblaje de una película. Los actores del doblaje deben coincidir en las tomas en las que sus personajes aparecen juntos en las diferentes tomas. Los actores de doblaje cobran todos la misma cantidad por cada día que deben desplazarse hasta el estudio de grabación independientemente del número de tomas que se graben. No es posible grabar más de 6 tomas por día. El objetivo es planificar las sesiones por día de manera que el gasto por los servicios de los actores de doblaje sea el menor posible.\n",
        "\n",
        "\n",
        "\n",
        "\n",
        "\n"
      ]
    },
    {
      "cell_type": "markdown",
      "metadata": {
        "id": "3_-exlrTgLd-"
      },
      "source": [
        "(*)¿Cuantas posibilidades hay sin tener en cuenta las restricciones?<br>\n",
        "\n",
        "\n",
        "\n",
        "¿Cuantas posibilidades hay teniendo en cuenta todas las restricciones.\n",
        "\n",
        "\n"
      ]
    },
    {
      "cell_type": "markdown",
      "metadata": {
        "id": "WfCUqJyKhPcw"
      },
      "source": [
        "Si no tuviesemos en cuenta las restricciones implicaría que la solución optima vendría dada cuando todas las tomas fuesen rodadas en el mismo día. De esta manera el coste total sería de 10.\n",
        "\n",
        "En cuanto a las diferentes posibilidades que tenemos, sería un problema de combinatoria en el que tenemos 30 tomas a repartir en 30 espacios. Por tanto, tendríamos un total de 30! posibilidades diferentes de resolver el problema, obteniendo siempre un coste total de 10."
      ]
    },
    {
      "cell_type": "code",
      "metadata": {
        "id": "iq6Fe32MgpDX"
      },
      "source": [],
      "execution_count": null,
      "outputs": []
    },
    {
      "cell_type": "markdown",
      "metadata": {
        "id": "dzynfVJahHoY"
      },
      "source": [
        "Modelo para el espacio de soluciones<br>\n",
        "(*) ¿Cual es la estructura de datos que mejor se adapta al problema? Argumentalo.(Es posible que hayas elegido una al principio y veas la necesidad de cambiar, arguentalo)\n"
      ]
    },
    {
      "cell_type": "markdown",
      "metadata": {
        "id": "xFIJrOwKi2Ti"
      },
      "source": [
        "La estructura de datos que mejor se adapta al problema es la matriz. En ella he añadido los actores que participan en cada toma, indicando con un 1 si el actor participa en la toma y con un 0 si no participa. El número de filas será el número de tomas (30) y el número de columnas será el número de actores (10).\n",
        "\n",
        "Es la mejor estructura ya que permite un acceso rápido y sencillo a los datos necesarios para el problema."
      ]
    },
    {
      "cell_type": "code",
      "metadata": {
        "id": "38c-7-ejhJmA"
      },
      "source": [
        "# Datos del problema\n",
        "actores_tomas_matrix = [\n",
        "    [1,1,1,1,1,0,0,0,0,0],\n",
        "    [0,0,1,1,1,0,0,0,0,0],\n",
        "    [0,1,0,0,1,0,1,0,0,0],\n",
        "    [1,1,0,0,0,0,1,1,0,0],\n",
        "    [0,1,0,1,0,0,0,1,0,0],\n",
        "    [1,1,0,1,1,0,0,0,0,0],\n",
        "    [1,1,0,1,1,0,0,0,0,0],\n",
        "    [1,1,0,0,0,1,0,0,0,0],\n",
        "    [1,1,0,1,0,0,0,0,0,0],\n",
        "    [1,1,0,0,0,1,0,0,1,0],\n",
        "    [1,1,1,0,1,0,0,1,0,0],\n",
        "    [1,1,1,1,0,1,0,0,0,0],\n",
        "    [1,0,0,1,1,0,0,0,0,0],\n",
        "    [1,0,1,0,0,1,0,0,0,0],\n",
        "    [1,1,0,0,0,0,1,0,0,0],\n",
        "    [0,0,0,1,0,0,0,0,0,1],\n",
        "    [1,0,1,0,0,0,0,0,0,0],\n",
        "    [0,0,1,0,0,1,0,0,0,0],\n",
        "    [1,0,1,0,0,0,0,0,0,0],\n",
        "    [1,0,1,1,1,0,0,0,0,0],\n",
        "    [0,0,0,0,0,1,0,1,0,0],\n",
        "    [1,1,1,1,0,0,0,0,0,0],\n",
        "    [1,0,1,0,0,0,0,0,0,0],\n",
        "    [0,0,1,0,0,1,0,0,0,0],\n",
        "    [1,1,0,1,0,0,0,0,0,1],\n",
        "    [1,0,1,0,1,0,0,0,1,0],\n",
        "    [0,0,0,1,1,0,0,0,0,0],\n",
        "    [1,0,0,1,0,0,0,0,0,0],\n",
        "    [1,0,0,0,1,1,0,0,0,0],\n",
        "    [1,0,0,1,0,0,0,0,0,0]\n",
        "]"
      ],
      "execution_count": null,
      "outputs": []
    },
    {
      "cell_type": "markdown",
      "metadata": {
        "id": "7Z9U2W7bi-XS"
      },
      "source": [
        "Según el modelo para el espacio de soluciones<br>\n",
        "(*)¿Cual es la función objetivo?\n",
        "\n",
        "(*)¿Es un problema de maximización o minimización?"
      ]
    },
    {
      "cell_type": "markdown",
      "metadata": {
        "id": "hBalWLM7j1_d"
      },
      "source": [
        "La función objetivo del problema se podría definir como : <br> <br> Costo_Total = Σ (número de actores únicos en cada día de rodaje) <br> <br>\n",
        "\n",
        "Como el coste de que un actor vaya a rodar un día es 1, el costo en un día será el número de actores que vayan a rodar. Por tanto, el costo total será el sumatorio de actores que van a rodar para cada día.\n",
        "\n",
        "Se trata de un problema de minimización, ya que el objetivo es que el costo sea lo más pequeño posible."
      ]
    },
    {
      "cell_type": "code",
      "metadata": {
        "id": "pDA-rg3Gj5Lz"
      },
      "source": [],
      "execution_count": null,
      "outputs": []
    },
    {
      "cell_type": "markdown",
      "metadata": {
        "id": "rlnTYgY1j6I2"
      },
      "source": [
        "Diseña un algoritmo para resolver el problema por fuerza bruta"
      ]
    },
    {
      "cell_type": "markdown",
      "metadata": {
        "id": "70rDgxYXkC8r"
      },
      "source": [
        "Respuesta"
      ]
    },
    {
      "cell_type": "code",
      "metadata": {
        "id": "CJb5sQ0qkENy"
      },
      "source": [],
      "execution_count": null,
      "outputs": []
    },
    {
      "cell_type": "markdown",
      "metadata": {
        "id": "tgrnsC2nkFa8"
      },
      "source": [
        "Calcula la complejidad del algoritmo por fuerza bruta"
      ]
    },
    {
      "cell_type": "markdown",
      "metadata": {
        "id": "9eUd3xwckP68"
      },
      "source": [
        "Respuesta"
      ]
    },
    {
      "cell_type": "code",
      "metadata": {
        "id": "rvZWwL-ckRST"
      },
      "source": [],
      "execution_count": null,
      "outputs": []
    },
    {
      "cell_type": "markdown",
      "metadata": {
        "id": "txbrmLmskReM"
      },
      "source": [
        "(*)Diseña un algoritmo que mejore la complejidad del algortimo por fuerza bruta. Argumenta porque crees que mejora el algoritmo por fuerza bruta"
      ]
    },
    {
      "cell_type": "markdown",
      "metadata": {
        "id": "hLrVwt5QkZPD"
      },
      "source": [
        "He diseñado un algoritmo que resuelve el problema mediante GRASP. Mejora la complejidad del algoritmo por fuerza bruta ya que parte de una solución inicial estimada y va optimizando sobre ella hasta llegar a una solución óptima (que no la solución más óptima). Al no buscar todas las soluciones, reduce en gran medida la complejidad.\n",
        "\n",
        "Para un problema con tantas soluciones como el que trabajamos, buscar todas las posibles soluciones puede ser muy ineficiente conputacionalmente. Por tanto, al aplicar una metaheurística logramos disminuir la complejidad del algoritmo y obtener una solución óptima en un tiempo razonable."
      ]
    },
    {
      "cell_type": "code",
      "metadata": {
        "id": "m1eyM21Vkabg"
      },
      "source": [
        "import random\n",
        "\n",
        "# Defino una variable que utilizaré más adelante\n",
        "contador = 0\n",
        "\n",
        "# Defino la funcion que construira la solucion inicial\n",
        "def construir_solucion_inicial(actores_tomas_matrix, max_tomas_por_dia):\n",
        "    n_actores, n_tomas = len(actores_tomas_matrix[0]), len(actores_tomas_matrix)\n",
        "    tomas_restantes = set(range(n_tomas))\n",
        "    solucion = []\n",
        "\n",
        "    while tomas_restantes:\n",
        "        actor_disponible = list(range(n_actores))\n",
        "        random.shuffle(actor_disponible)\n",
        "        tomas_dia_actual = []\n",
        "\n",
        "        for actor in actor_disponible:\n",
        "            tomas_candidatas = [toma for toma in tomas_restantes if actores_tomas_matrix[toma][actor]]\n",
        "            random.shuffle(tomas_candidatas)\n",
        "            tomas_dia_actual.extend(tomas_candidatas[:max_tomas_por_dia - len(tomas_dia_actual)])\n",
        "\n",
        "            if len(tomas_dia_actual) >= max_tomas_por_dia:\n",
        "                break\n",
        "\n",
        "        solucion.append(tomas_dia_actual)\n",
        "        tomas_restantes.difference_update(set(tomas_dia_actual))\n",
        "\n",
        "    return solucion\n",
        "\n",
        "# Defino la funcion que me calcula el costo total\n",
        "def costo_total(solucion_actual, actores_tomas_matrix):\n",
        "    n_actores = len(actores_tomas_matrix[0])\n",
        "    costo_total = 0\n",
        "\n",
        "    for dia_tomas in solucion_actual:\n",
        "        actores_dia = set()\n",
        "        for toma in dia_tomas:\n",
        "            actores_dia.update({actor for actor in range(n_actores) if actores_tomas_matrix[toma][actor]})\n",
        "\n",
        "        costo_total += len(actores_dia)\n",
        "\n",
        "    return costo_total\n",
        "\n",
        "# Defino la funcion que me optimiza mediante grasp el problema\n",
        "def solve_doblaje_coordinacion_grasp(actores_tomas_matrix, max_tomas_por_dia=6, max_iter=100000):\n",
        "    mejor_solucion = None\n",
        "    mejor_costo = float('inf')\n",
        "\n",
        "    for _ in range(max_iter):\n",
        "        solucion_actual = construir_solucion_inicial(actores_tomas_matrix, max_tomas_por_dia)\n",
        "        costo_actual = costo_total(solucion_actual, actores_tomas_matrix)\n",
        "\n",
        "        if costo_actual < mejor_costo:\n",
        "            mejor_solucion = solucion_actual\n",
        "            mejor_costo = costo_actual\n",
        "            contador=1\n",
        "        elif costo_actual == mejor_costo:\n",
        "            contador+=1\n",
        "\n",
        "    # Mostrar el resultado\n",
        "    print(f\"Planificación óptima encontrada en {max_iter} iteraciones:\")\n",
        "    for i, dia_tomas in enumerate(mejor_solucion):\n",
        "        print(f\"Día {i + 1}: \", end=\"\")\n",
        "        for toma in dia_tomas:\n",
        "            print(f\"Toma {toma + 1}\", end=\" \")\n",
        "        print()\n",
        "    print(f\"Gasto total: {mejor_costo}\")\n",
        "    print(f\"Número de soluciones óptimas encontradas: {contador}\")\n",
        "\n",
        "# Datos del problema\n",
        "actores_tomas_matrix = [\n",
        "    [1,1,1,1,1,0,0,0,0,0],\n",
        "    [0,0,1,1,1,0,0,0,0,0],\n",
        "    [0,1,0,0,1,0,1,0,0,0],\n",
        "    [1,1,0,0,0,0,1,1,0,0],\n",
        "    [0,1,0,1,0,0,0,1,0,0],\n",
        "    [1,1,0,1,1,0,0,0,0,0],\n",
        "    [1,1,0,1,1,0,0,0,0,0],\n",
        "    [1,1,0,0,0,1,0,0,0,0],\n",
        "    [1,1,0,1,0,0,0,0,0,0],\n",
        "    [1,1,0,0,0,1,0,0,1,0],\n",
        "    [1,1,1,0,1,0,0,1,0,0],\n",
        "    [1,1,1,1,0,1,0,0,0,0],\n",
        "    [1,0,0,1,1,0,0,0,0,0],\n",
        "    [1,0,1,0,0,1,0,0,0,0],\n",
        "    [1,1,0,0,0,0,1,0,0,0],\n",
        "    [0,0,0,1,0,0,0,0,0,1],\n",
        "    [1,0,1,0,0,0,0,0,0,0],\n",
        "    [0,0,1,0,0,1,0,0,0,0],\n",
        "    [1,0,1,0,0,0,0,0,0,0],\n",
        "    [1,0,1,1,1,0,0,0,0,0],\n",
        "    [0,0,0,0,0,1,0,1,0,0],\n",
        "    [1,1,1,1,0,0,0,0,0,0],\n",
        "    [1,0,1,0,0,0,0,0,0,0],\n",
        "    [0,0,1,0,0,1,0,0,0,0],\n",
        "    [1,1,0,1,0,0,0,0,0,1],\n",
        "    [1,0,1,0,1,0,0,0,1,0],\n",
        "    [0,0,0,1,1,0,0,0,0,0],\n",
        "    [1,0,0,1,0,0,0,0,0,0],\n",
        "    [1,0,0,0,1,1,0,0,0,0],\n",
        "    [1,0,0,1,0,0,0,0,0,0]\n",
        "]\n",
        "\n",
        "# Resolver el problema de coordinación de doblaje con GRASP\n",
        "solve_doblaje_coordinacion_grasp(actores_tomas_matrix)\n"
      ],
      "execution_count": null,
      "outputs": []
    },
    {
      "cell_type": "markdown",
      "metadata": {
        "id": "eGDB4K6uk1iN"
      },
      "source": [
        "(*)Calcula la complejidad del algoritmo"
      ]
    },
    {
      "cell_type": "markdown",
      "metadata": {
        "id": "NhpTh_BPk1ms"
      },
      "source": [
        "Para analizar la coplejidad del algoritmo vamos a analizar las funciones del mismo:\n",
        "\n",
        "*   Función construir_solucion_inicial:\n",
        "  * El bucle while *tomas_restantes* se ejecuta en función del número de tomas restantes en cada iteración. En el peor caso, este bucle se ejecutará **n_tomas** veces.\n",
        "  * Dentro del bucle, el bucle *for actor in actor_disponible* itera sobre todos los actores disponibles. En el peor caso, este bucle se ejecutará **n_actores** veces.\n",
        "  * Dentro del bucle *for actor in actor_disponible*, la clist comprehension *tomas_candidatas* crea una lista con todas las tomas candidatas en función de los actores disponibles. En el peor caso, esto puede tomar **n_tomas** operaciones, aunque es probable que sea mucho menos en la mayoría de los casos.\n",
        "  * En general, la función construir_solucion_inicial tiene una complejidad aproximada de **O(n_tomas * n_actores)**.\n",
        "\n",
        "*   Función costo_total:\n",
        "  * El bucle *for dia_tomas in solucion_actual* itera sobre todos los días de rodaje en la solución actual. En el peor caso, este bucle se ejecutará **n_tomas** veces.\n",
        "  * El bucle *for toma in dia_tomas* itera sobre el número de tomas que hay en cada día. En el peor caso, este bucle se ejecutará **max_tomas_por_dia** veces (que a nivel práctico son 6).\n",
        "  * Dentro del bucle *for dia_tomas in solucion_actual*, la set comprehension *actores_dia* crea un conjunto con todos los actores únicos que participan en las tomas de ese día. En el peor caso, esto tomará **n_actores** operaciones para cada día.\n",
        "  * En general, la función costo_total tiene una complejidad aproximada de **O(n_tomas * max_tomas_por_dia * n_actores)**.\n",
        "\n",
        "* Función solve_doblaje_coordinacion_grasp:\n",
        "  * El bucle *for _ in range(max_iter)* se ejecutará **max_iter** veces, que es una constante proporcionada por el usuario.\n",
        "  * En cada iteración, se llama a la función *construir_solucion_inicial* y *costo_total*, que ya hemos analizado con complejidad **O(n_tomas * n_actores)** y **O(n_tomas * max_tomas_por_dia * n_actores)**, respectivamente.\n",
        "  * En general, la función solve_doblaje_coordinacion_grasp tiene una complejidad aproximada de **O(max_iter * n_tomas * max_tomas_por_dia * n_actores)**.\n",
        "\n",
        "No he contabilizado la complejidad de la parte en la que imprimo los resultados por la pantalla ya que no se trata propiamente del algoritmo, sino que es una utilidad que usamos para mostrar gráficamente los resultados, pero que no es fundamental."
      ]
    },
    {
      "cell_type": "code",
      "metadata": {
        "id": "nREzhkStlCq8"
      },
      "source": [
        "def construir_solucion_inicial(actores_tomas_matrix, max_tomas_por_dia): # O(n_actores*n_tomas)\n",
        "    n_actores, n_tomas = len(actores_tomas_matrix[0]), len(actores_tomas_matrix)\n",
        "    tomas_restantes = set(range(n_tomas))\n",
        "    solucion = []\n",
        "\n",
        "    while tomas_restantes: # n_tomas\n",
        "        actor_disponible = list(range(n_actores))\n",
        "        random.shuffle(actor_disponible)\n",
        "        tomas_dia_actual = []\n",
        "\n",
        "        for actor in actor_disponible: # n_actores\n",
        "            tomas_candidatas = [toma for toma in tomas_restantes if actores_tomas_matrix[toma][actor]] # n_tomas\n",
        "            random.shuffle(tomas_candidatas)\n",
        "            tomas_dia_actual.extend(tomas_candidatas[:max_tomas_por_dia - len(tomas_dia_actual)])\n",
        "\n",
        "            if len(tomas_dia_actual) >= max_tomas_por_dia:\n",
        "                break\n",
        "\n",
        "        solucion.append(tomas_dia_actual)\n",
        "        tomas_restantes.difference_update(set(tomas_dia_actual))\n",
        "\n",
        "    return solucion\n",
        "\n",
        "def costo_total(solucion_actual, actores_tomas_matrix): # O(n_tomas*max_tomas_por_dia*n_actores)\n",
        "    n_actores = len(actores_tomas_matrix[0])\n",
        "    costo_total = 0\n",
        "\n",
        "    for dia_tomas in solucion_actual: #n_tomas\n",
        "        actores_dia = set()\n",
        "        for toma in dia_tomas: # max_tomas_por_dia\n",
        "            actores_dia.update({actor for actor in range(n_actores) if actores_tomas_matrix[toma][actor]}) # n_actores\n",
        "\n",
        "        costo_total += len(actores_dia)\n",
        "\n",
        "    return costo_total\n",
        "\n",
        "def solve_doblaje_coordinacion_grasp(actores_tomas_matrix, max_tomas_por_dia=6, max_iter=100000): # O(max_iter*n_tomas*max_tomas_por_dia*n_actores)\n",
        "    mejor_solucion = None\n",
        "    mejor_costo = float('inf')\n",
        "\n",
        "    for _ in range(max_iter): #max_iter\n",
        "        solucion_actual = construir_solucion_inicial(actores_tomas_matrix, max_tomas_por_dia) # O(n_actores*n_tomas)\n",
        "        costo_actual = costo_total(solucion_actual,actores_tomas_matrix) # O(n_tomas*max_tomas_por_dia*n_actores)\n",
        "\n",
        "        if costo_actual < mejor_costo:\n",
        "            mejor_solucion = solucion_actual\n",
        "            mejor_costo = costo_actual\n",
        "            contador=1\n",
        "        elif costo_actual == mejor_costo:\n",
        "            contador+=1\n",
        "\n",
        "    # Mostrar el resultado\n",
        "    print(f\"Planificación óptima encontrada en {max_iter} iteraciones:\")\n",
        "    for i, dia_tomas in enumerate(mejor_solucion):\n",
        "        print(f\"Día {i + 1}: \", end=\"\")\n",
        "        for toma in dia_tomas:\n",
        "            print(f\"Toma {toma + 1}\", end=\" \")\n",
        "        print()\n",
        "    print(f\"Gasto total: {mejor_costo}\")\n",
        "    print(f\"Número de soluciones óptimas encontradas: {contador}\")"
      ],
      "execution_count": null,
      "outputs": []
    },
    {
      "cell_type": "markdown",
      "metadata": {
        "id": "3M6QjTsSkmYe"
      },
      "source": [
        "Según el problema (y tenga sentido), diseña un juego de datos de entrada aleatorios"
      ]
    },
    {
      "cell_type": "markdown",
      "metadata": {
        "id": "Jc3_OlyNkvjZ"
      },
      "source": [
        "Respuesta"
      ]
    },
    {
      "cell_type": "code",
      "metadata": {
        "id": "sJ-N2etjkyWc"
      },
      "source": [],
      "execution_count": null,
      "outputs": []
    },
    {
      "cell_type": "markdown",
      "metadata": {
        "id": "zy5ZROmjlGo1"
      },
      "source": [
        "Aplica el algoritmo al juego de datos generado"
      ]
    },
    {
      "cell_type": "markdown",
      "metadata": {
        "id": "_Cmj-PVylMsa"
      },
      "source": [
        "Respuesta"
      ]
    },
    {
      "cell_type": "code",
      "metadata": {
        "id": "Jkx8GeiYlUz1"
      },
      "source": [],
      "execution_count": null,
      "outputs": []
    },
    {
      "cell_type": "markdown",
      "metadata": {
        "id": "eTFWUJQrtGcv"
      },
      "source": [
        "Enumera las referencias que has utilizado(si ha sido necesario) para llevar a cabo el trabajo"
      ]
    },
    {
      "cell_type": "markdown",
      "metadata": {
        "id": "YKQ_mRBttWsP"
      },
      "source": [
        "Respuesta"
      ]
    },
    {
      "cell_type": "markdown",
      "metadata": {
        "id": "kAkDPUyRtYyH"
      },
      "source": [
        "Describe brevemente las lineas de como crees que es posible avanzar en el estudio del problema. Ten en cuenta incluso posibles variaciones del problema y/o variaciones al alza del tamaño"
      ]
    },
    {
      "cell_type": "markdown",
      "metadata": {
        "id": "IE0uZmo-tZu-"
      },
      "source": [
        "Respuesta"
      ]
    }
  ]
}
