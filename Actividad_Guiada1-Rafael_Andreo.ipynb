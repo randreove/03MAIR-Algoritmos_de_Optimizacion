{
  "nbformat": 4,
  "nbformat_minor": 0,
  "metadata": {
    "colab": {
      "provenance": [],
      "authorship_tag": "ABX9TyNcNsmlg600KFAHLVvCCNWR",
      "include_colab_link": true
    },
    "kernelspec": {
      "name": "python3",
      "display_name": "Python 3"
    },
    "language_info": {
      "name": "python"
    }
  },
  "cells": [
    {
      "cell_type": "markdown",
      "metadata": {
        "id": "view-in-github",
        "colab_type": "text"
      },
      "source": [
        "<a href=\"https://colab.research.google.com/github/randreove/03MAIR-Algoritmos_de_Optimizacion/blob/main/Actividad_Guiada1-Rafael_Andreo.ipynb\" target=\"_parent\"><img src=\"https://colab.research.google.com/assets/colab-badge.svg\" alt=\"Open In Colab\"/></a>"
      ]
    },
    {
      "cell_type": "markdown",
      "source": [
        "#Actividad Guiada 1\n",
        "#Rafael Andreo de la Vega\n",
        "\n",
        "Link github repositorio github: https://github.com/randreove/03MAIR-Algoritmos_de_Optimizacion"
      ],
      "metadata": {
        "id": "8gYsyfh7eWWD"
      }
    },
    {
      "cell_type": "code",
      "execution_count": 1,
      "metadata": {
        "colab": {
          "base_uri": "https://localhost:8080/"
        },
        "id": "JU5EflIhYFae",
        "outputId": "cc839d98-3424-48bb-b58a-451c6283ccea"
      },
      "outputs": [
        {
          "output_type": "stream",
          "name": "stdout",
          "text": [
            "Mover bloque desde 1 hasta 3\n",
            "Mover bloque desde 1 hasta 2\n",
            "Mover bloque desde 3 hasta 2\n",
            "Mover bloque desde 1 hasta 3\n",
            "Mover bloque desde 2 hasta 1\n",
            "Mover bloque desde 2 hasta 3\n",
            "Mover bloque desde 1 hasta 3\n"
          ]
        }
      ],
      "source": [
        "def torres_de_hanoi(N, origen, destino, pivote):\n",
        "  if N == 1:\n",
        "    print(f'Mover bloque desde {origen} hasta {destino}')\n",
        "    return\n",
        "\n",
        "  torres_de_hanoi(N-1, origen, pivote, destino)\n",
        "  print(f'Mover bloque desde {origen} hasta {destino}')\n",
        "  torres_de_hanoi(N-1, pivote, destino, origen)\n",
        "\n",
        "torres_de_hanoi(3,1,3,2)"
      ]
    }
  ]
}